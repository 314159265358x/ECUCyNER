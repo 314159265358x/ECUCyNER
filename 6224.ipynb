{
  "nbformat": 4,
  "nbformat_minor": 0,
  "metadata": {
    "colab": {
      "provenance": [],
      "gpuType": "T4",
      "toc_visible": true
    },
    "kernelspec": {
      "name": "python3",
      "display_name": "Python 3"
    },
    "language_info": {
      "name": "python"
    }
  },
  "cells": [
    {
      "cell_type": "markdown",
      "source": [],
      "metadata": {
        "id": "cIgO2TkNcxpk"
      }
    },
    {
      "cell_type": "markdown",
      "source": [
        "# https://github.com/clovaai/WCT2"
      ],
      "metadata": {
        "id": "-ste2TdOc0Iu"
      }
    },
    {
      "cell_type": "code",
      "execution_count": null,
      "metadata": {
        "id": "2310hiUnDp_n"
      },
      "outputs": [],
      "source": [
        "!git clone https://github.com/clovaai/WCT2.git"
      ]
    },
    {
      "cell_type": "code",
      "source": [
        "!pip uninstall torch\n",
        "!pip uninstall torchvision\n",
        "!pip uninstall tqdm\n",
        "!pip uninstall numpy\n",
        "!pip uninstall Pillow"
      ],
      "metadata": {
        "id": "3BThOGQtxBjo"
      },
      "execution_count": null,
      "outputs": []
    },
    {
      "cell_type": "code",
      "source": [
        "!pip install torch==1.11.0\n",
        "!pip install torchvision==0.2.0\n",
        "!pip install tqdm==4.21.0\n",
        "!pip install numpy==1.14.2\n",
        "!pip install Pillow==6.2.0"
      ],
      "metadata": {
        "id": "Vs0HYYwMfxXP"
      },
      "execution_count": null,
      "outputs": []
    },
    {
      "cell_type": "code",
      "source": [
        "!pip install torch\n",
        "!pip install torchvision\n",
        "!pip install tqdm\n",
        "!pip install numpy\n",
        "!pip install Pillow"
      ],
      "metadata": {
        "id": "tr-djbdbw9A4"
      },
      "execution_count": null,
      "outputs": []
    },
    {
      "cell_type": "code",
      "source": [
        "%cd /content/WCT2\n",
        "!python transfer.py --option_unpool cat5 -a --content ./examples/content --style ./examples/style --content_segment ./examples/content_segment --style_segment ./examples/style_segment/ --output ./outputs/ --verbose --image_size 512"
      ],
      "metadata": {
        "colab": {
          "base_uri": "https://localhost:8080/"
        },
        "id": "nq1vQmHlmFDO",
        "outputId": "ea46c198-91bb-48ba-b66b-269f43d4cef2"
      },
      "execution_count": null,
      "outputs": [
        {
          "output_type": "stream",
          "name": "stdout",
          "text": [
            "/content/WCT2\n",
            "Namespace(content='./examples/content', content_segment='./examples/content_segment', style='./examples/style', style_segment='./examples/style_segment/', output='./outputs/', image_size=512, alpha=1, option_unpool='cat5', transfer_at_encoder=False, transfer_at_decoder=False, transfer_at_skip=False, transfer_all=True, cpu=False, verbose=True)\n",
            "  0% 0/6 [00:00<?, ?it/s]------ transfer: in14.png\n",
            "Elapsed time in whole WCT: 0:00:00.230374\n",
            "  0% 0/6 [00:08<?, ?it/s]\n",
            "Traceback (most recent call last):\n",
            "  File \"/content/WCT2/transfer.py\", line 216, in <module>\n",
            "    run_bulk(config)\n",
            "  File \"/content/WCT2/transfer.py\", line 184, in run_bulk\n",
            "    wct2 = WCT2(transfer_at=_transfer_at, option_unpool=config.option_unpool, device=device, verbose=config.verbose)\n",
            "  File \"/content/WCT2/transfer.py\", line 57, in __init__\n",
            "    self.encoder.load_state_dict(torch.load(os.path.join(model_path, 'wave_encoder_{}_l4.pth'.format(option_unpool)), map_location=lambda storage, loc: storage))\n",
            "  File \"/usr/local/lib/python3.10/dist-packages/torch/nn/modules/module.py\", line 2041, in load_state_dict\n",
            "    raise RuntimeError('Error(s) in loading state_dict for {}:\\n\\t{}'.format(\n",
            "RuntimeError: Error(s) in loading state_dict for WaveEncoder:\n",
            "\tWhile copying the parameter named \"pool1.LL.weight\", whose dimensions in the model are torch.Size([64, 1, 2, 2]) and whose dimensions in the checkpoint are torch.Size([64, 1, 2, 2]), an exception occurred : ('unsupported operation: more than one element of the written-to tensor refers to a single memory location. Please clone() the tensor before performing the operation.',).\n",
            "\tWhile copying the parameter named \"pool1.LH.weight\", whose dimensions in the model are torch.Size([64, 1, 2, 2]) and whose dimensions in the checkpoint are torch.Size([64, 1, 2, 2]), an exception occurred : ('unsupported operation: more than one element of the written-to tensor refers to a single memory location. Please clone() the tensor before performing the operation.',).\n",
            "\tWhile copying the parameter named \"pool1.HL.weight\", whose dimensions in the model are torch.Size([64, 1, 2, 2]) and whose dimensions in the checkpoint are torch.Size([64, 1, 2, 2]), an exception occurred : ('unsupported operation: more than one element of the written-to tensor refers to a single memory location. Please clone() the tensor before performing the operation.',).\n",
            "\tWhile copying the parameter named \"pool1.HH.weight\", whose dimensions in the model are torch.Size([64, 1, 2, 2]) and whose dimensions in the checkpoint are torch.Size([64, 1, 2, 2]), an exception occurred : ('unsupported operation: more than one element of the written-to tensor refers to a single memory location. Please clone() the tensor before performing the operation.',).\n",
            "\tWhile copying the parameter named \"pool2.LL.weight\", whose dimensions in the model are torch.Size([128, 1, 2, 2]) and whose dimensions in the checkpoint are torch.Size([128, 1, 2, 2]), an exception occurred : ('unsupported operation: more than one element of the written-to tensor refers to a single memory location. Please clone() the tensor before performing the operation.',).\n",
            "\tWhile copying the parameter named \"pool2.LH.weight\", whose dimensions in the model are torch.Size([128, 1, 2, 2]) and whose dimensions in the checkpoint are torch.Size([128, 1, 2, 2]), an exception occurred : ('unsupported operation: more than one element of the written-to tensor refers to a single memory location. Please clone() the tensor before performing the operation.',).\n",
            "\tWhile copying the parameter named \"pool2.HL.weight\", whose dimensions in the model are torch.Size([128, 1, 2, 2]) and whose dimensions in the checkpoint are torch.Size([128, 1, 2, 2]), an exception occurred : ('unsupported operation: more than one element of the written-to tensor refers to a single memory location. Please clone() the tensor before performing the operation.',).\n",
            "\tWhile copying the parameter named \"pool2.HH.weight\", whose dimensions in the model are torch.Size([128, 1, 2, 2]) and whose dimensions in the checkpoint are torch.Size([128, 1, 2, 2]), an exception occurred : ('unsupported operation: more than one element of the written-to tensor refers to a single memory location. Please clone() the tensor before performing the operation.',).\n",
            "\tWhile copying the parameter named \"pool3.LL.weight\", whose dimensions in the model are torch.Size([256, 1, 2, 2]) and whose dimensions in the checkpoint are torch.Size([256, 1, 2, 2]), an exception occurred : ('unsupported operation: more than one element of the written-to tensor refers to a single memory location. Please clone() the tensor before performing the operation.',).\n",
            "\tWhile copying the parameter named \"pool3.LH.weight\", whose dimensions in the model are torch.Size([256, 1, 2, 2]) and whose dimensions in the checkpoint are torch.Size([256, 1, 2, 2]), an exception occurred : ('unsupported operation: more than one element of the written-to tensor refers to a single memory location. Please clone() the tensor before performing the operation.',).\n",
            "\tWhile copying the parameter named \"pool3.HL.weight\", whose dimensions in the model are torch.Size([256, 1, 2, 2]) and whose dimensions in the checkpoint are torch.Size([256, 1, 2, 2]), an exception occurred : ('unsupported operation: more than one element of the written-to tensor refers to a single memory location. Please clone() the tensor before performing the operation.',).\n",
            "\tWhile copying the parameter named \"pool3.HH.weight\", whose dimensions in the model are torch.Size([256, 1, 2, 2]) and whose dimensions in the checkpoint are torch.Size([256, 1, 2, 2]), an exception occurred : ('unsupported operation: more than one element of the written-to tensor refers to a single memory location. Please clone() the tensor before performing the operation.',).\n"
          ]
        }
      ]
    },
    {
      "cell_type": "code",
      "source": [
        "!git clone https://github.com/luanfujun/deep-photo-styletransfer"
      ],
      "metadata": {
        "id": "cxbCMZ-slOwl",
        "colab": {
          "base_uri": "https://localhost:8080/"
        },
        "outputId": "ca940de2-a4f0-46e4-da1a-c236e3f920e1"
      },
      "execution_count": null,
      "outputs": [
        {
          "output_type": "stream",
          "name": "stdout",
          "text": [
            "Cloning into 'deep-photo-styletransfer'...\n",
            "remote: Enumerating objects: 705, done.\u001b[K\n",
            "remote: Total 705 (delta 0), reused 0 (delta 0), pack-reused 705\u001b[K\n",
            "Receiving objects: 100% (705/705), 170.17 MiB | 32.32 MiB/s, done.\n",
            "Resolving deltas: 100% (185/185), done.\n"
          ]
        }
      ]
    },
    {
      "cell_type": "markdown",
      "source": [
        "# https://github.com/aiforsec/CyNER"
      ],
      "metadata": {
        "id": "xbH-XWEvrIrL"
      }
    },
    {
      "cell_type": "code",
      "source": [
        "%cd /content\n",
        "!git clone https://github.com/aiforsec/CyNER\n",
        "%cd CyNER\n",
        "!pip install -r requirements.txt\n",
        "!pip install markupsafe==2.0.1\n",
        "!pip install nltk"
      ],
      "metadata": {
        "colab": {
          "base_uri": "https://localhost:8080/"
        },
        "id": "C9dv9plBr6MH",
        "outputId": "88305988-d890-404f-e444-0714f7f75fac"
      },
      "execution_count": null,
      "outputs": [
        {
          "output_type": "stream",
          "name": "stdout",
          "text": [
            "Collecting git+https://github.com/aiforsec/CyNER.git\n",
            "  Cloning https://github.com/aiforsec/CyNER.git to /tmp/pip-req-build-md07h69s\n",
            "  Running command git clone --filter=blob:none --quiet https://github.com/aiforsec/CyNER.git /tmp/pip-req-build-md07h69s\n",
            "  Resolved https://github.com/aiforsec/CyNER.git to commit 37aff53bd7235605638320e0c06de2fb82847070\n",
            "  Preparing metadata (setup.py) ... \u001b[?25l\u001b[?25hdone\n",
            "Requirement already satisfied: flair in /usr/local/lib/python3.10/dist-packages (from cyner==0.0.1) (0.12.2)\n",
            "Requirement already satisfied: spacy in /usr/local/lib/python3.10/dist-packages (from cyner==0.0.1) (3.6.1)\n",
            "Requirement already satisfied: ipywidgets in /usr/local/lib/python3.10/dist-packages (from cyner==0.0.1) (7.7.1)\n",
            "Requirement already satisfied: spacy-transformers in /usr/local/lib/python3.10/dist-packages (from cyner==0.0.1) (1.2.5)\n",
            "Requirement already satisfied: Pillow>=7.1.0 in /usr/local/lib/python3.10/dist-packages (from cyner==0.0.1) (9.4.0)\n",
            "Requirement already satisfied: sudachipy in /usr/local/lib/python3.10/dist-packages (from cyner==0.0.1) (0.6.7)\n",
            "Requirement already satisfied: sudachidict_core in /usr/local/lib/python3.10/dist-packages (from cyner==0.0.1) (20230711)\n",
            "Requirement already satisfied: uvicorn==0.11.8 in /usr/local/lib/python3.10/dist-packages (from cyner==0.0.1) (0.11.8)\n",
            "Requirement already satisfied: jinja2==2.11.3 in /usr/local/lib/python3.10/dist-packages (from cyner==0.0.1) (2.11.3)\n",
            "Requirement already satisfied: aiofiles==0.5.0 in /usr/local/lib/python3.10/dist-packages (from cyner==0.0.1) (0.5.0)\n",
            "Requirement already satisfied: fastapi==0.65.2 in /usr/local/lib/python3.10/dist-packages (from cyner==0.0.1) (0.65.2)\n",
            "Requirement already satisfied: matplotlib==3.3.1 in /usr/local/lib/python3.10/dist-packages (from cyner==0.0.1) (3.3.1)\n",
            "Requirement already satisfied: toml in /usr/local/lib/python3.10/dist-packages (from cyner==0.0.1) (0.10.2)\n",
            "Requirement already satisfied: tensorboard in /usr/local/lib/python3.10/dist-packages (from cyner==0.0.1) (2.12.3)\n",
            "Requirement already satisfied: torch in /usr/local/lib/python3.10/dist-packages (from cyner==0.0.1) (2.0.0)\n",
            "Requirement already satisfied: transformers in /usr/local/lib/python3.10/dist-packages (from cyner==0.0.1) (4.30.2)\n",
            "Requirement already satisfied: sentencepiece in /usr/local/lib/python3.10/dist-packages (from cyner==0.0.1) (0.1.99)\n",
            "Requirement already satisfied: seqeval in /usr/local/lib/python3.10/dist-packages (from cyner==0.0.1) (1.2.2)\n",
            "Requirement already satisfied: segtok in /usr/local/lib/python3.10/dist-packages (from cyner==0.0.1) (1.5.11)\n",
            "Requirement already satisfied: starlette==0.14.2 in /usr/local/lib/python3.10/dist-packages (from fastapi==0.65.2->cyner==0.0.1) (0.14.2)\n",
            "Requirement already satisfied: pydantic!=1.7,!=1.7.1,!=1.7.2,!=1.7.3,!=1.8,!=1.8.1,<2.0.0,>=1.6.2 in /usr/local/lib/python3.10/dist-packages (from fastapi==0.65.2->cyner==0.0.1) (1.10.12)\n",
            "Requirement already satisfied: MarkupSafe>=0.23 in /usr/local/lib/python3.10/dist-packages (from jinja2==2.11.3->cyner==0.0.1) (2.1.3)\n",
            "Requirement already satisfied: certifi>=2020.06.20 in /usr/local/lib/python3.10/dist-packages (from matplotlib==3.3.1->cyner==0.0.1) (2023.7.22)\n",
            "Requirement already satisfied: cycler>=0.10 in /usr/local/lib/python3.10/dist-packages (from matplotlib==3.3.1->cyner==0.0.1) (0.11.0)\n",
            "Requirement already satisfied: kiwisolver>=1.0.1 in /usr/local/lib/python3.10/dist-packages (from matplotlib==3.3.1->cyner==0.0.1) (1.4.4)\n",
            "Requirement already satisfied: numpy>=1.15 in /usr/local/lib/python3.10/dist-packages (from matplotlib==3.3.1->cyner==0.0.1) (1.23.5)\n",
            "Requirement already satisfied: pyparsing!=2.0.4,!=2.1.2,!=2.1.6,>=2.0.3 in /usr/local/lib/python3.10/dist-packages (from matplotlib==3.3.1->cyner==0.0.1) (3.1.1)\n",
            "Requirement already satisfied: python-dateutil>=2.1 in /usr/local/lib/python3.10/dist-packages (from matplotlib==3.3.1->cyner==0.0.1) (2.8.2)\n",
            "Requirement already satisfied: click==7.* in /usr/local/lib/python3.10/dist-packages (from uvicorn==0.11.8->cyner==0.0.1) (7.1.2)\n",
            "Requirement already satisfied: h11<0.10,>=0.8 in /usr/local/lib/python3.10/dist-packages (from uvicorn==0.11.8->cyner==0.0.1) (0.9.0)\n",
            "Requirement already satisfied: websockets==8.* in /usr/local/lib/python3.10/dist-packages (from uvicorn==0.11.8->cyner==0.0.1) (8.1)\n",
            "Requirement already satisfied: httptools==0.1.* in /usr/local/lib/python3.10/dist-packages (from uvicorn==0.11.8->cyner==0.0.1) (0.1.2)\n",
            "Requirement already satisfied: uvloop>=0.14.0 in /usr/local/lib/python3.10/dist-packages (from uvicorn==0.11.8->cyner==0.0.1) (0.17.0)\n",
            "Requirement already satisfied: gensim>=3.8.0 in /usr/local/lib/python3.10/dist-packages (from flair->cyner==0.0.1) (4.3.1)\n",
            "Requirement already satisfied: tqdm>=4.26.0 in /usr/local/lib/python3.10/dist-packages (from flair->cyner==0.0.1) (4.66.1)\n",
            "Requirement already satisfied: mpld3==0.3 in /usr/local/lib/python3.10/dist-packages (from flair->cyner==0.0.1) (0.3)\n",
            "Requirement already satisfied: scikit-learn>=0.21.3 in /usr/local/lib/python3.10/dist-packages (from flair->cyner==0.0.1) (1.2.2)\n",
            "Requirement already satisfied: sqlitedict>=1.6.0 in /usr/local/lib/python3.10/dist-packages (from flair->cyner==0.0.1) (2.1.0)\n",
            "Requirement already satisfied: deprecated>=1.2.4 in /usr/local/lib/python3.10/dist-packages (from flair->cyner==0.0.1) (1.2.14)\n",
            "Requirement already satisfied: hyperopt>=0.2.7 in /usr/local/lib/python3.10/dist-packages (from flair->cyner==0.0.1) (0.2.7)\n",
            "Requirement already satisfied: boto3 in /usr/local/lib/python3.10/dist-packages (from flair->cyner==0.0.1) (1.28.41)\n",
            "Requirement already satisfied: bpemb>=0.3.2 in /usr/local/lib/python3.10/dist-packages (from flair->cyner==0.0.1) (0.3.4)\n",
            "Requirement already satisfied: regex in /usr/local/lib/python3.10/dist-packages (from flair->cyner==0.0.1) (2023.6.3)\n",
            "Requirement already satisfied: tabulate in /usr/local/lib/python3.10/dist-packages (from flair->cyner==0.0.1) (0.9.0)\n",
            "Requirement already satisfied: langdetect in /usr/local/lib/python3.10/dist-packages (from flair->cyner==0.0.1) (1.0.9)\n",
            "Requirement already satisfied: lxml in /usr/local/lib/python3.10/dist-packages (from flair->cyner==0.0.1) (4.9.3)\n",
            "Requirement already satisfied: ftfy in /usr/local/lib/python3.10/dist-packages (from flair->cyner==0.0.1) (6.1.1)\n",
            "Requirement already satisfied: janome in /usr/local/lib/python3.10/dist-packages (from flair->cyner==0.0.1) (0.5.0)\n",
            "Requirement already satisfied: gdown==4.4.0 in /usr/local/lib/python3.10/dist-packages (from flair->cyner==0.0.1) (4.4.0)\n",
            "Requirement already satisfied: huggingface-hub>=0.10.0 in /usr/local/lib/python3.10/dist-packages (from flair->cyner==0.0.1) (0.16.4)\n",
            "Requirement already satisfied: conllu>=4.0 in /usr/local/lib/python3.10/dist-packages (from flair->cyner==0.0.1) (4.5.3)\n",
            "Requirement already satisfied: more-itertools in /usr/local/lib/python3.10/dist-packages (from flair->cyner==0.0.1) (10.1.0)\n",
            "Requirement already satisfied: wikipedia-api in /usr/local/lib/python3.10/dist-packages (from flair->cyner==0.0.1) (0.6.0)\n",
            "Requirement already satisfied: pptree in /usr/local/lib/python3.10/dist-packages (from flair->cyner==0.0.1) (3.1)\n",
            "Requirement already satisfied: pytorch-revgrad in /usr/local/lib/python3.10/dist-packages (from flair->cyner==0.0.1) (0.2.0)\n",
            "Requirement already satisfied: transformer-smaller-training-vocab>=0.2.1 in /usr/local/lib/python3.10/dist-packages (from flair->cyner==0.0.1) (0.3.1)\n",
            "Requirement already satisfied: filelock in /usr/local/lib/python3.10/dist-packages (from gdown==4.4.0->flair->cyner==0.0.1) (3.12.2)\n",
            "Requirement already satisfied: requests[socks] in /usr/local/lib/python3.10/dist-packages (from gdown==4.4.0->flair->cyner==0.0.1) (2.31.0)\n",
            "Requirement already satisfied: six in /usr/local/lib/python3.10/dist-packages (from gdown==4.4.0->flair->cyner==0.0.1) (1.16.0)\n",
            "Requirement already satisfied: beautifulsoup4 in /usr/local/lib/python3.10/dist-packages (from gdown==4.4.0->flair->cyner==0.0.1) (4.11.2)\n",
            "Requirement already satisfied: typing-extensions in /usr/local/lib/python3.10/dist-packages (from torch->cyner==0.0.1) (4.7.1)\n",
            "Requirement already satisfied: sympy in /usr/local/lib/python3.10/dist-packages (from torch->cyner==0.0.1) (1.12)\n",
            "Requirement already satisfied: networkx in /usr/local/lib/python3.10/dist-packages (from torch->cyner==0.0.1) (3.1)\n",
            "Requirement already satisfied: nvidia-cuda-nvrtc-cu11==11.7.99 in /usr/local/lib/python3.10/dist-packages (from torch->cyner==0.0.1) (11.7.99)\n",
            "Requirement already satisfied: nvidia-cuda-runtime-cu11==11.7.99 in /usr/local/lib/python3.10/dist-packages (from torch->cyner==0.0.1) (11.7.99)\n",
            "Requirement already satisfied: nvidia-cuda-cupti-cu11==11.7.101 in /usr/local/lib/python3.10/dist-packages (from torch->cyner==0.0.1) (11.7.101)\n",
            "Requirement already satisfied: nvidia-cudnn-cu11==8.5.0.96 in /usr/local/lib/python3.10/dist-packages (from torch->cyner==0.0.1) (8.5.0.96)\n",
            "Requirement already satisfied: nvidia-cublas-cu11==11.10.3.66 in /usr/local/lib/python3.10/dist-packages (from torch->cyner==0.0.1) (11.10.3.66)\n",
            "Requirement already satisfied: nvidia-cufft-cu11==10.9.0.58 in /usr/local/lib/python3.10/dist-packages (from torch->cyner==0.0.1) (10.9.0.58)\n",
            "Requirement already satisfied: nvidia-curand-cu11==10.2.10.91 in /usr/local/lib/python3.10/dist-packages (from torch->cyner==0.0.1) (10.2.10.91)\n",
            "Requirement already satisfied: nvidia-cusolver-cu11==11.4.0.1 in /usr/local/lib/python3.10/dist-packages (from torch->cyner==0.0.1) (11.4.0.1)\n",
            "Requirement already satisfied: nvidia-cusparse-cu11==11.7.4.91 in /usr/local/lib/python3.10/dist-packages (from torch->cyner==0.0.1) (11.7.4.91)\n",
            "Requirement already satisfied: nvidia-nccl-cu11==2.14.3 in /usr/local/lib/python3.10/dist-packages (from torch->cyner==0.0.1) (2.14.3)\n",
            "Requirement already satisfied: nvidia-nvtx-cu11==11.7.91 in /usr/local/lib/python3.10/dist-packages (from torch->cyner==0.0.1) (11.7.91)\n",
            "Requirement already satisfied: triton==2.0.0 in /usr/local/lib/python3.10/dist-packages (from torch->cyner==0.0.1) (2.0.0)\n",
            "Requirement already satisfied: setuptools in /usr/local/lib/python3.10/dist-packages (from nvidia-cublas-cu11==11.10.3.66->torch->cyner==0.0.1) (67.7.2)\n",
            "Requirement already satisfied: wheel in /usr/local/lib/python3.10/dist-packages (from nvidia-cublas-cu11==11.10.3.66->torch->cyner==0.0.1) (0.41.2)\n",
            "Requirement already satisfied: cmake in /usr/local/lib/python3.10/dist-packages (from triton==2.0.0->torch->cyner==0.0.1) (3.27.2)\n",
            "Requirement already satisfied: lit in /usr/local/lib/python3.10/dist-packages (from triton==2.0.0->torch->cyner==0.0.1) (16.0.6)\n",
            "Requirement already satisfied: ipykernel>=4.5.1 in /usr/local/lib/python3.10/dist-packages (from ipywidgets->cyner==0.0.1) (5.5.6)\n",
            "Requirement already satisfied: ipython-genutils~=0.2.0 in /usr/local/lib/python3.10/dist-packages (from ipywidgets->cyner==0.0.1) (0.2.0)\n",
            "Requirement already satisfied: traitlets>=4.3.1 in /usr/local/lib/python3.10/dist-packages (from ipywidgets->cyner==0.0.1) (5.7.1)\n",
            "Requirement already satisfied: widgetsnbextension~=3.6.0 in /usr/local/lib/python3.10/dist-packages (from ipywidgets->cyner==0.0.1) (3.6.5)\n",
            "Requirement already satisfied: ipython>=4.0.0 in /usr/local/lib/python3.10/dist-packages (from ipywidgets->cyner==0.0.1) (7.34.0)\n",
            "Requirement already satisfied: jupyterlab-widgets>=1.0.0 in /usr/local/lib/python3.10/dist-packages (from ipywidgets->cyner==0.0.1) (3.0.8)\n",
            "Requirement already satisfied: spacy-legacy<3.1.0,>=3.0.11 in /usr/local/lib/python3.10/dist-packages (from spacy->cyner==0.0.1) (3.0.12)\n",
            "Requirement already satisfied: spacy-loggers<2.0.0,>=1.0.0 in /usr/local/lib/python3.10/dist-packages (from spacy->cyner==0.0.1) (1.0.4)\n",
            "Requirement already satisfied: murmurhash<1.1.0,>=0.28.0 in /usr/local/lib/python3.10/dist-packages (from spacy->cyner==0.0.1) (1.0.9)\n",
            "Requirement already satisfied: cymem<2.1.0,>=2.0.2 in /usr/local/lib/python3.10/dist-packages (from spacy->cyner==0.0.1) (2.0.7)\n",
            "Requirement already satisfied: preshed<3.1.0,>=3.0.2 in /usr/local/lib/python3.10/dist-packages (from spacy->cyner==0.0.1) (3.0.8)\n",
            "Requirement already satisfied: thinc<8.2.0,>=8.1.8 in /usr/local/lib/python3.10/dist-packages (from spacy->cyner==0.0.1) (8.1.12)\n",
            "Requirement already satisfied: wasabi<1.2.0,>=0.9.1 in /usr/local/lib/python3.10/dist-packages (from spacy->cyner==0.0.1) (1.1.2)\n",
            "Requirement already satisfied: srsly<3.0.0,>=2.4.3 in /usr/local/lib/python3.10/dist-packages (from spacy->cyner==0.0.1) (2.4.7)\n",
            "Requirement already satisfied: catalogue<2.1.0,>=2.0.6 in /usr/local/lib/python3.10/dist-packages (from spacy->cyner==0.0.1) (2.0.9)\n",
            "Requirement already satisfied: typer<0.10.0,>=0.3.0 in /usr/local/lib/python3.10/dist-packages (from spacy->cyner==0.0.1) (0.9.0)\n",
            "Requirement already satisfied: pathy>=0.10.0 in /usr/local/lib/python3.10/dist-packages (from spacy->cyner==0.0.1) (0.10.2)\n",
            "Requirement already satisfied: smart-open<7.0.0,>=5.2.1 in /usr/local/lib/python3.10/dist-packages (from spacy->cyner==0.0.1) (6.3.0)\n",
            "Requirement already satisfied: packaging>=20.0 in /usr/local/lib/python3.10/dist-packages (from spacy->cyner==0.0.1) (23.1)\n",
            "Requirement already satisfied: langcodes<4.0.0,>=3.2.0 in /usr/local/lib/python3.10/dist-packages (from spacy->cyner==0.0.1) (3.3.0)\n",
            "Requirement already satisfied: spacy-alignments<1.0.0,>=0.7.2 in /usr/local/lib/python3.10/dist-packages (from spacy-transformers->cyner==0.0.1) (0.9.0)\n",
            "Requirement already satisfied: pyyaml>=5.1 in /usr/local/lib/python3.10/dist-packages (from transformers->cyner==0.0.1) (6.0.1)\n",
            "Requirement already satisfied: tokenizers!=0.11.3,<0.14,>=0.11.1 in /usr/local/lib/python3.10/dist-packages (from transformers->cyner==0.0.1) (0.13.3)\n",
            "Requirement already satisfied: safetensors>=0.3.1 in /usr/local/lib/python3.10/dist-packages (from transformers->cyner==0.0.1) (0.3.3)\n",
            "Requirement already satisfied: absl-py>=0.4 in /usr/local/lib/python3.10/dist-packages (from tensorboard->cyner==0.0.1) (1.4.0)\n",
            "Requirement already satisfied: grpcio>=1.48.2 in /usr/local/lib/python3.10/dist-packages (from tensorboard->cyner==0.0.1) (1.57.0)\n",
            "Requirement already satisfied: google-auth<3,>=1.6.3 in /usr/local/lib/python3.10/dist-packages (from tensorboard->cyner==0.0.1) (2.17.3)\n",
            "Requirement already satisfied: google-auth-oauthlib<1.1,>=0.5 in /usr/local/lib/python3.10/dist-packages (from tensorboard->cyner==0.0.1) (1.0.0)\n",
            "Requirement already satisfied: markdown>=2.6.8 in /usr/local/lib/python3.10/dist-packages (from tensorboard->cyner==0.0.1) (3.4.4)\n",
            "Requirement already satisfied: protobuf>=3.19.6 in /usr/local/lib/python3.10/dist-packages (from tensorboard->cyner==0.0.1) (3.20.3)\n",
            "Requirement already satisfied: tensorboard-data-server<0.8.0,>=0.7.0 in /usr/local/lib/python3.10/dist-packages (from tensorboard->cyner==0.0.1) (0.7.1)\n",
            "Requirement already satisfied: werkzeug>=1.0.1 in /usr/local/lib/python3.10/dist-packages (from tensorboard->cyner==0.0.1) (2.3.7)\n",
            "Requirement already satisfied: wrapt<2,>=1.10 in /usr/local/lib/python3.10/dist-packages (from deprecated>=1.2.4->flair->cyner==0.0.1) (1.14.1)\n",
            "Requirement already satisfied: scipy>=1.7.0 in /usr/local/lib/python3.10/dist-packages (from gensim>=3.8.0->flair->cyner==0.0.1) (1.10.1)\n",
            "Requirement already satisfied: cachetools<6.0,>=2.0.0 in /usr/local/lib/python3.10/dist-packages (from google-auth<3,>=1.6.3->tensorboard->cyner==0.0.1) (5.3.1)\n",
            "Requirement already satisfied: pyasn1-modules>=0.2.1 in /usr/local/lib/python3.10/dist-packages (from google-auth<3,>=1.6.3->tensorboard->cyner==0.0.1) (0.3.0)\n",
            "Requirement already satisfied: rsa<5,>=3.1.4 in /usr/local/lib/python3.10/dist-packages (from google-auth<3,>=1.6.3->tensorboard->cyner==0.0.1) (4.9)\n",
            "Requirement already satisfied: requests-oauthlib>=0.7.0 in /usr/local/lib/python3.10/dist-packages (from google-auth-oauthlib<1.1,>=0.5->tensorboard->cyner==0.0.1) (1.3.1)\n",
            "Requirement already satisfied: fsspec in /usr/local/lib/python3.10/dist-packages (from huggingface-hub>=0.10.0->flair->cyner==0.0.1) (2023.6.0)\n",
            "Requirement already satisfied: future in /usr/local/lib/python3.10/dist-packages (from hyperopt>=0.2.7->flair->cyner==0.0.1) (0.18.3)\n",
            "Requirement already satisfied: cloudpickle in /usr/local/lib/python3.10/dist-packages (from hyperopt>=0.2.7->flair->cyner==0.0.1) (2.2.1)\n",
            "Requirement already satisfied: py4j in /usr/local/lib/python3.10/dist-packages (from hyperopt>=0.2.7->flair->cyner==0.0.1) (0.10.9.7)\n",
            "Requirement already satisfied: jupyter-client in /usr/local/lib/python3.10/dist-packages (from ipykernel>=4.5.1->ipywidgets->cyner==0.0.1) (6.1.12)\n",
            "Requirement already satisfied: tornado>=4.2 in /usr/local/lib/python3.10/dist-packages (from ipykernel>=4.5.1->ipywidgets->cyner==0.0.1) (6.3.2)\n",
            "Requirement already satisfied: jedi>=0.16 in /usr/local/lib/python3.10/dist-packages (from ipython>=4.0.0->ipywidgets->cyner==0.0.1) (0.19.0)\n",
            "Requirement already satisfied: decorator in /usr/local/lib/python3.10/dist-packages (from ipython>=4.0.0->ipywidgets->cyner==0.0.1) (4.4.2)\n",
            "Requirement already satisfied: pickleshare in /usr/local/lib/python3.10/dist-packages (from ipython>=4.0.0->ipywidgets->cyner==0.0.1) (0.7.5)\n",
            "Requirement already satisfied: prompt-toolkit!=3.0.0,!=3.0.1,<3.1.0,>=2.0.0 in /usr/local/lib/python3.10/dist-packages (from ipython>=4.0.0->ipywidgets->cyner==0.0.1) (3.0.39)\n",
            "Requirement already satisfied: pygments in /usr/local/lib/python3.10/dist-packages (from ipython>=4.0.0->ipywidgets->cyner==0.0.1) (2.16.1)\n",
            "Requirement already satisfied: backcall in /usr/local/lib/python3.10/dist-packages (from ipython>=4.0.0->ipywidgets->cyner==0.0.1) (0.2.0)\n",
            "Requirement already satisfied: matplotlib-inline in /usr/local/lib/python3.10/dist-packages (from ipython>=4.0.0->ipywidgets->cyner==0.0.1) (0.1.6)\n",
            "Requirement already satisfied: pexpect>4.3 in /usr/local/lib/python3.10/dist-packages (from ipython>=4.0.0->ipywidgets->cyner==0.0.1) (4.8.0)\n",
            "Requirement already satisfied: charset-normalizer<4,>=2 in /usr/local/lib/python3.10/dist-packages (from requests[socks]->gdown==4.4.0->flair->cyner==0.0.1) (3.2.0)\n",
            "Requirement already satisfied: idna<4,>=2.5 in /usr/local/lib/python3.10/dist-packages (from requests[socks]->gdown==4.4.0->flair->cyner==0.0.1) (3.4)\n",
            "Requirement already satisfied: urllib3<3,>=1.21.1 in /usr/local/lib/python3.10/dist-packages (from requests[socks]->gdown==4.4.0->flair->cyner==0.0.1) (1.26.16)\n",
            "Requirement already satisfied: joblib>=1.1.1 in /usr/local/lib/python3.10/dist-packages (from scikit-learn>=0.21.3->flair->cyner==0.0.1) (1.3.2)\n",
            "Requirement already satisfied: threadpoolctl>=2.0.0 in /usr/local/lib/python3.10/dist-packages (from scikit-learn>=0.21.3->flair->cyner==0.0.1) (3.2.0)\n",
            "Requirement already satisfied: blis<0.8.0,>=0.7.8 in /usr/local/lib/python3.10/dist-packages (from thinc<8.2.0,>=8.1.8->spacy->cyner==0.0.1) (0.7.10)\n",
            "Requirement already satisfied: confection<1.0.0,>=0.0.1 in /usr/local/lib/python3.10/dist-packages (from thinc<8.2.0,>=8.1.8->spacy->cyner==0.0.1) (0.1.1)\n",
            "Requirement already satisfied: notebook>=4.4.1 in /usr/local/lib/python3.10/dist-packages (from widgetsnbextension~=3.6.0->ipywidgets->cyner==0.0.1) (6.5.5)\n",
            "Requirement already satisfied: botocore<1.32.0,>=1.31.41 in /usr/local/lib/python3.10/dist-packages (from boto3->flair->cyner==0.0.1) (1.31.41)\n",
            "Requirement already satisfied: jmespath<2.0.0,>=0.7.1 in /usr/local/lib/python3.10/dist-packages (from boto3->flair->cyner==0.0.1) (1.0.1)\n",
            "Requirement already satisfied: s3transfer<0.7.0,>=0.6.0 in /usr/local/lib/python3.10/dist-packages (from boto3->flair->cyner==0.0.1) (0.6.2)\n",
            "Requirement already satisfied: wcwidth>=0.2.5 in /usr/local/lib/python3.10/dist-packages (from ftfy->flair->cyner==0.0.1) (0.2.6)\n",
            "Requirement already satisfied: mpmath>=0.19 in /usr/local/lib/python3.10/dist-packages (from sympy->torch->cyner==0.0.1) (1.3.0)\n",
            "Requirement already satisfied: parso<0.9.0,>=0.8.3 in /usr/local/lib/python3.10/dist-packages (from jedi>=0.16->ipython>=4.0.0->ipywidgets->cyner==0.0.1) (0.8.3)\n",
            "Requirement already satisfied: pyzmq<25,>=17 in /usr/local/lib/python3.10/dist-packages (from notebook>=4.4.1->widgetsnbextension~=3.6.0->ipywidgets->cyner==0.0.1) (23.2.1)\n",
            "Requirement already satisfied: argon2-cffi in /usr/local/lib/python3.10/dist-packages (from notebook>=4.4.1->widgetsnbextension~=3.6.0->ipywidgets->cyner==0.0.1) (23.1.0)\n",
            "Requirement already satisfied: jupyter-core>=4.6.1 in /usr/local/lib/python3.10/dist-packages (from notebook>=4.4.1->widgetsnbextension~=3.6.0->ipywidgets->cyner==0.0.1) (5.3.1)\n",
            "Requirement already satisfied: nbformat in /usr/local/lib/python3.10/dist-packages (from notebook>=4.4.1->widgetsnbextension~=3.6.0->ipywidgets->cyner==0.0.1) (5.9.2)\n",
            "Requirement already satisfied: nbconvert>=5 in /usr/local/lib/python3.10/dist-packages (from notebook>=4.4.1->widgetsnbextension~=3.6.0->ipywidgets->cyner==0.0.1) (6.4.5)\n",
            "Requirement already satisfied: nest-asyncio>=1.5 in /usr/local/lib/python3.10/dist-packages (from notebook>=4.4.1->widgetsnbextension~=3.6.0->ipywidgets->cyner==0.0.1) (1.5.7)\n",
            "Requirement already satisfied: Send2Trash>=1.8.0 in /usr/local/lib/python3.10/dist-packages (from notebook>=4.4.1->widgetsnbextension~=3.6.0->ipywidgets->cyner==0.0.1) (1.8.2)\n",
            "Requirement already satisfied: terminado>=0.8.3 in /usr/local/lib/python3.10/dist-packages (from notebook>=4.4.1->widgetsnbextension~=3.6.0->ipywidgets->cyner==0.0.1) (0.17.1)\n",
            "Requirement already satisfied: prometheus-client in /usr/local/lib/python3.10/dist-packages (from notebook>=4.4.1->widgetsnbextension~=3.6.0->ipywidgets->cyner==0.0.1) (0.17.1)\n",
            "Requirement already satisfied: nbclassic>=0.4.7 in /usr/local/lib/python3.10/dist-packages (from notebook>=4.4.1->widgetsnbextension~=3.6.0->ipywidgets->cyner==0.0.1) (1.0.0)\n",
            "Requirement already satisfied: ptyprocess>=0.5 in /usr/local/lib/python3.10/dist-packages (from pexpect>4.3->ipython>=4.0.0->ipywidgets->cyner==0.0.1) (0.7.0)\n",
            "Requirement already satisfied: pyasn1<0.6.0,>=0.4.6 in /usr/local/lib/python3.10/dist-packages (from pyasn1-modules>=0.2.1->google-auth<3,>=1.6.3->tensorboard->cyner==0.0.1) (0.5.0)\n",
            "Requirement already satisfied: oauthlib>=3.0.0 in /usr/local/lib/python3.10/dist-packages (from requests-oauthlib>=0.7.0->google-auth-oauthlib<1.1,>=0.5->tensorboard->cyner==0.0.1) (3.2.2)\n",
            "Requirement already satisfied: accelerate>=0.20.2 in /usr/local/lib/python3.10/dist-packages (from transformers->cyner==0.0.1) (0.22.0)\n",
            "Requirement already satisfied: soupsieve>1.2 in /usr/local/lib/python3.10/dist-packages (from beautifulsoup4->gdown==4.4.0->flair->cyner==0.0.1) (2.4.1)\n",
            "Requirement already satisfied: PySocks!=1.5.7,>=1.5.6 in /usr/local/lib/python3.10/dist-packages (from requests[socks]->gdown==4.4.0->flair->cyner==0.0.1) (1.7.1)\n",
            "Requirement already satisfied: psutil in /usr/local/lib/python3.10/dist-packages (from accelerate>=0.20.2->transformers->cyner==0.0.1) (5.9.5)\n",
            "Requirement already satisfied: platformdirs>=2.5 in /usr/local/lib/python3.10/dist-packages (from jupyter-core>=4.6.1->notebook>=4.4.1->widgetsnbextension~=3.6.0->ipywidgets->cyner==0.0.1) (3.10.0)\n",
            "Requirement already satisfied: jupyter-server>=1.8 in /usr/local/lib/python3.10/dist-packages (from nbclassic>=0.4.7->notebook>=4.4.1->widgetsnbextension~=3.6.0->ipywidgets->cyner==0.0.1) (1.24.0)\n",
            "Requirement already satisfied: notebook-shim>=0.2.3 in /usr/local/lib/python3.10/dist-packages (from nbclassic>=0.4.7->notebook>=4.4.1->widgetsnbextension~=3.6.0->ipywidgets->cyner==0.0.1) (0.2.3)\n",
            "Requirement already satisfied: mistune<2,>=0.8.1 in /usr/local/lib/python3.10/dist-packages (from nbconvert>=5->notebook>=4.4.1->widgetsnbextension~=3.6.0->ipywidgets->cyner==0.0.1) (0.8.4)\n",
            "Requirement already satisfied: jupyterlab-pygments in /usr/local/lib/python3.10/dist-packages (from nbconvert>=5->notebook>=4.4.1->widgetsnbextension~=3.6.0->ipywidgets->cyner==0.0.1) (0.2.2)\n",
            "Requirement already satisfied: entrypoints>=0.2.2 in /usr/local/lib/python3.10/dist-packages (from nbconvert>=5->notebook>=4.4.1->widgetsnbextension~=3.6.0->ipywidgets->cyner==0.0.1) (0.4)\n",
            "Requirement already satisfied: bleach in /usr/local/lib/python3.10/dist-packages (from nbconvert>=5->notebook>=4.4.1->widgetsnbextension~=3.6.0->ipywidgets->cyner==0.0.1) (6.0.0)\n",
            "Requirement already satisfied: pandocfilters>=1.4.1 in /usr/local/lib/python3.10/dist-packages (from nbconvert>=5->notebook>=4.4.1->widgetsnbextension~=3.6.0->ipywidgets->cyner==0.0.1) (1.5.0)\n",
            "Requirement already satisfied: testpath in /usr/local/lib/python3.10/dist-packages (from nbconvert>=5->notebook>=4.4.1->widgetsnbextension~=3.6.0->ipywidgets->cyner==0.0.1) (0.6.0)\n",
            "Requirement already satisfied: defusedxml in /usr/local/lib/python3.10/dist-packages (from nbconvert>=5->notebook>=4.4.1->widgetsnbextension~=3.6.0->ipywidgets->cyner==0.0.1) (0.7.1)\n",
            "Requirement already satisfied: nbclient<0.6.0,>=0.5.0 in /usr/local/lib/python3.10/dist-packages (from nbconvert>=5->notebook>=4.4.1->widgetsnbextension~=3.6.0->ipywidgets->cyner==0.0.1) (0.5.13)\n",
            "Requirement already satisfied: fastjsonschema in /usr/local/lib/python3.10/dist-packages (from nbformat->notebook>=4.4.1->widgetsnbextension~=3.6.0->ipywidgets->cyner==0.0.1) (2.18.0)\n",
            "Requirement already satisfied: jsonschema>=2.6 in /usr/local/lib/python3.10/dist-packages (from nbformat->notebook>=4.4.1->widgetsnbextension~=3.6.0->ipywidgets->cyner==0.0.1) (4.19.0)\n",
            "Requirement already satisfied: argon2-cffi-bindings in /usr/local/lib/python3.10/dist-packages (from argon2-cffi->notebook>=4.4.1->widgetsnbextension~=3.6.0->ipywidgets->cyner==0.0.1) (21.2.0)\n",
            "Requirement already satisfied: attrs>=22.2.0 in /usr/local/lib/python3.10/dist-packages (from jsonschema>=2.6->nbformat->notebook>=4.4.1->widgetsnbextension~=3.6.0->ipywidgets->cyner==0.0.1) (23.1.0)\n",
            "Requirement already satisfied: jsonschema-specifications>=2023.03.6 in /usr/local/lib/python3.10/dist-packages (from jsonschema>=2.6->nbformat->notebook>=4.4.1->widgetsnbextension~=3.6.0->ipywidgets->cyner==0.0.1) (2023.7.1)\n",
            "Requirement already satisfied: referencing>=0.28.4 in /usr/local/lib/python3.10/dist-packages (from jsonschema>=2.6->nbformat->notebook>=4.4.1->widgetsnbextension~=3.6.0->ipywidgets->cyner==0.0.1) (0.30.2)\n",
            "Requirement already satisfied: rpds-py>=0.7.1 in /usr/local/lib/python3.10/dist-packages (from jsonschema>=2.6->nbformat->notebook>=4.4.1->widgetsnbextension~=3.6.0->ipywidgets->cyner==0.0.1) (0.9.2)\n",
            "Requirement already satisfied: anyio<4,>=3.1.0 in /usr/local/lib/python3.10/dist-packages (from jupyter-server>=1.8->nbclassic>=0.4.7->notebook>=4.4.1->widgetsnbextension~=3.6.0->ipywidgets->cyner==0.0.1) (3.7.1)\n",
            "Requirement already satisfied: websocket-client in /usr/local/lib/python3.10/dist-packages (from jupyter-server>=1.8->nbclassic>=0.4.7->notebook>=4.4.1->widgetsnbextension~=3.6.0->ipywidgets->cyner==0.0.1) (1.6.2)\n",
            "Requirement already satisfied: cffi>=1.0.1 in /usr/local/lib/python3.10/dist-packages (from argon2-cffi-bindings->argon2-cffi->notebook>=4.4.1->widgetsnbextension~=3.6.0->ipywidgets->cyner==0.0.1) (1.15.1)\n",
            "Requirement already satisfied: webencodings in /usr/local/lib/python3.10/dist-packages (from bleach->nbconvert>=5->notebook>=4.4.1->widgetsnbextension~=3.6.0->ipywidgets->cyner==0.0.1) (0.5.1)\n",
            "Requirement already satisfied: sniffio>=1.1 in /usr/local/lib/python3.10/dist-packages (from anyio<4,>=3.1.0->jupyter-server>=1.8->nbclassic>=0.4.7->notebook>=4.4.1->widgetsnbextension~=3.6.0->ipywidgets->cyner==0.0.1) (1.3.0)\n",
            "Requirement already satisfied: exceptiongroup in /usr/local/lib/python3.10/dist-packages (from anyio<4,>=3.1.0->jupyter-server>=1.8->nbclassic>=0.4.7->notebook>=4.4.1->widgetsnbextension~=3.6.0->ipywidgets->cyner==0.0.1) (1.1.3)\n",
            "Requirement already satisfied: pycparser in /usr/local/lib/python3.10/dist-packages (from cffi>=1.0.1->argon2-cffi-bindings->argon2-cffi->notebook>=4.4.1->widgetsnbextension~=3.6.0->ipywidgets->cyner==0.0.1) (2.21)\n",
            "Collecting markupsafe==2.0.1\n",
            "  Downloading MarkupSafe-2.0.1-cp310-cp310-manylinux_2_5_x86_64.manylinux1_x86_64.manylinux_2_12_x86_64.manylinux2010_x86_64.whl (30 kB)\n",
            "Installing collected packages: markupsafe\n",
            "  Attempting uninstall: markupsafe\n",
            "    Found existing installation: MarkupSafe 2.1.3\n",
            "    Uninstalling MarkupSafe-2.1.3:\n",
            "      Successfully uninstalled MarkupSafe-2.1.3\n",
            "\u001b[31mERROR: pip's dependency resolver does not currently take into account all the packages that are installed. This behaviour is the source of the following dependency conflicts.\n",
            "distributed 2023.8.1 requires click>=8.0, but you have click 7.1.2 which is incompatible.\n",
            "torchaudio 2.0.2+cu118 requires torch==2.0.1, but you have torch 2.0.0 which is incompatible.\n",
            "torchdata 0.6.1 requires torch==2.0.1, but you have torch 2.0.0 which is incompatible.\n",
            "torchtext 0.15.2 requires torch==2.0.1, but you have torch 2.0.0 which is incompatible.\n",
            "torchvision 0.15.2+cu118 requires torch==2.0.1, but you have torch 2.0.0 which is incompatible.\n",
            "werkzeug 2.3.7 requires MarkupSafe>=2.1.1, but you have markupsafe 2.0.1 which is incompatible.\u001b[0m\u001b[31m\n",
            "\u001b[0mSuccessfully installed markupsafe-2.0.1\n",
            "Requirement already satisfied: nltk in /usr/local/lib/python3.10/dist-packages (3.8.1)\n",
            "Requirement already satisfied: click in /usr/local/lib/python3.10/dist-packages (from nltk) (7.1.2)\n",
            "Requirement already satisfied: joblib in /usr/local/lib/python3.10/dist-packages (from nltk) (1.3.2)\n",
            "Requirement already satisfied: regex>=2021.8.3 in /usr/local/lib/python3.10/dist-packages (from nltk) (2023.6.3)\n",
            "Requirement already satisfied: tqdm in /usr/local/lib/python3.10/dist-packages (from nltk) (4.66.1)\n"
          ]
        }
      ]
    },
    {
      "cell_type": "code",
      "source": [
        "import cyner\n",
        "\n",
        "def print_predict(model,text):\n",
        "    entities = model.get_entities(text)\n",
        "    ln_c=0\n",
        "    for e in entities:\n",
        "        print(str(ln_c)+\"\\t\"+str(e))\n",
        "        ln_c=ln_c+1\n",
        "\n",
        "cfg = {'checkpoint_dir': '.ckpt',\n",
        "        'dataset': 'dataset/mitre',\n",
        "        'transformers_model': 'xlm-roberta-large',\n",
        "        'lr': 5e-6,\n",
        "        'epochs': 20,\n",
        "        'batch_size': 8,\n",
        "        'max_seq_length': 128}\n",
        "m_3 = cyner.TransformersNER(cfg)\n",
        "m_3.train()\n",
        "\n",
        "m_1 = cyner.CyNER(transformer_model='xlm-roberta-large', use_heuristic=False, flair_model=None)\n",
        "\n",
        "t_1 = 'Proofpoint report mentions that the German-language messages were turned off once the UK messages were established, indicating a conscious effort to spread FluBot 446833e3f8b04d4c3c2d2288e456328266524e396adbfeba3769d00727481e80 in Android phones.'\n",
        "t_2 = 'There are two errors here. Line 7 will throw a null pointer exception at runtime, and line 18 will cause SIGSEGV when writing data to the address offset 64 bytes.'\n",
        "\n",
        "print_predict(m_1,t_1)\n",
        "print_predict(m_1,t_2)\n"
      ],
      "metadata": {
        "colab": {
          "base_uri": "https://localhost:8080/"
        },
        "id": "0LJFYz5-wpY4",
        "outputId": "3a11aa22-e089-490c-ecb9-8c30b620cc30"
      },
      "execution_count": null,
      "outputs": [
        {
          "output_type": "stream",
          "name": "stderr",
          "text": [
            "Some weights of the model checkpoint at xlm-roberta-large were not used when initializing XLMRobertaForTokenClassification: ['lm_head.dense.weight', 'lm_head.layer_norm.bias', 'lm_head.dense.bias', 'lm_head.bias', 'lm_head.layer_norm.weight']\n",
            "- This IS expected if you are initializing XLMRobertaForTokenClassification from the checkpoint of a model trained on another task or with another architecture (e.g. initializing a BertForSequenceClassification model from a BertForPreTraining model).\n",
            "- This IS NOT expected if you are initializing XLMRobertaForTokenClassification from the checkpoint of a model that you expect to be exactly identical (initializing a BertForSequenceClassification model from a BertForSequenceClassification model).\n",
            "Some weights of XLMRobertaForTokenClassification were not initialized from the model checkpoint at xlm-roberta-large and are newly initialized: ['classifier.bias', 'classifier.weight']\n",
            "You should probably TRAIN this model on a down-stream task to be able to use it for predictions and inference.\n"
          ]
        },
        {
          "output_type": "stream",
          "name": "stdout",
          "text": [
            "[(0, 246)]\n",
            "(0, 246)\n",
            "Proofpoint report mentions that the German-language messages were turned off once the UK messages were established, indicating a conscious effort to spread FluBot 446833e3f8b04d4c3c2d2288e456328266524e396adbfeba3769d00727481e80 in Android phones.\n",
            "0\tMention: Proofpoint report mentions that the German-language messages were turned off once the UK messages were established, indicating a conscious effort to spread FluBot 446833e3f8b04d4c3c2d2288e456328266524e396adbfeba3769d00727481e80 in Android phones., Class: LABEL_0, Start: 0, End: 246, Confidence: 0.90\n",
            "[(0, 26), (27, 162)]\n",
            "(0, 26)\n",
            "There are two errors here.\n",
            "(27, 162)\n",
            "Line 7 will throw a null pointer exception at runtime, and line 18 will cause SIGSEGV when writing data to the address offset 64 bytes.\n",
            "0\tMention: There are two errors here., Class: LABEL_0, Start: 0, End: 26, Confidence: 0.90\n",
            "1\tMention: Line 7 will throw a null pointer exception at runtime, and line 18 will cause SIGSEGV when writing data to the address offset 64 bytes., Class: LABEL_0, Start: 27, End: 162, Confidence: 0.90\n"
          ]
        }
      ]
    },
    {
      "cell_type": "markdown",
      "source": [
        "# 6224 final output\n",
        "interface draft\n",
        "\n",
        "due for the Neo4J system, at least one member in Enrich Text Graph need to call this interface. It has bben implemented in CyNER system."
      ],
      "metadata": {
        "id": "InJcQffm6tcB"
      }
    },
    {
      "cell_type": "code",
      "source": [
        "# ================ begin header ================\n",
        "# this is the basic interface for group members which will use.\n",
        "class Entity(): ...\n",
        "def callCynerSystem(text:str)->list[Entity]: ...\n",
        "# base interface\n",
        "class Entity():\n",
        "    start:int\n",
        "    end:int\n",
        "    entity_type:str\n",
        "    text:str\n",
        "    confidence:float # deprecated, will not have a value\n",
        "\n",
        "    # ================ end header ================\n",
        "    def deserialize(this,data:dict,text:str)->None:\n",
        "        this.start=data['o']\n",
        "        this.end=data['e']\n",
        "        this.entity_type=data['t'].upper()\n",
        "        this.text=text[this.start:this.end]\n",
        "\n",
        "    def __str__(this)->dict:\n",
        "        return json.dumps({\n",
        "            'o':this.start,\n",
        "            'e':this.end,\n",
        "            't':this.entity_type,\n",
        "            'w':this.text\n",
        "        })\n",
        "\n",
        "import requests\n",
        "import json\n",
        "\n",
        "def callCynerSystem(text:str)->list[Entity]:\n",
        "    # For reasons of academic integrity, the CyNER system only runs on my device.\n",
        "    response:requests.Response=requests.post(url='https://n.fold.win/service/be80f2ed3fbdc1d440c3dcc91b0f49c5',data=text)\n",
        "    result_json:list[dict]=json.loads(response.text)\n",
        "    result_obj:list[Entity]=[]\n",
        "    for i in result_json:\n",
        "        e:Entity=Entity()\n",
        "        e.deserialize(i,text)\n",
        "        result_obj.append(e)\n",
        "    return result_obj\n",
        "\n",
        "def resultToWordList(r:list[Entity])->list[str]:\n",
        "    t:list[str]=[]\n",
        "    for i in r:\n",
        "        t.append(i.text)\n",
        "    return t\n",
        "\n",
        "t_1 = 'Proofpoint report mentions that the German-language messages were turned off once the UK messages were established, indicating a conscious effort to spread FluBot 446833e3f8b04d4c3c2d2288e456328266524e396adbfeba3769d00727481e80 in Android phones.'\n",
        "t_2 = 'There are two errors here. Line 7 will throw a null pointer exception at runtime, and line 18 will cause SIGSEGV when writing data to the address offset 64 bytes.'\n",
        "\n",
        "# Viewing the cyber security entities\n",
        "a=callCynerSystem(t_1)\n",
        "for i in a:\n",
        "    print(i)\n",
        "print(resultToWordList(a))\n",
        "\n",
        "a=callCynerSystem(t_2)\n",
        "for i in a:\n",
        "    print(i)\n",
        "print(resultToWordList(a))\n",
        "\n"
      ],
      "metadata": {
        "id": "899HgcpgVlB2",
        "colab": {
          "base_uri": "https://localhost:8080/"
        },
        "outputId": "4fac448e-8319-48bf-80ba-b05d76a2aaa9"
      },
      "execution_count": null,
      "outputs": [
        {
          "output_type": "stream",
          "name": "stdout",
          "text": [
            "{\"o\": 36, \"e\": 42, \"t\": \"CHEMICAL\", \"w\": \"German\"}\n",
            "{\"o\": 163, \"e\": 227, \"t\": \"HEX\", \"w\": \"446833e3f8b04d4c3c2d2288e456328266524e396adbfeba3769d00727481e80\"}\n",
            "{\"o\": 0, \"e\": 10, \"t\": \"ORG\", \"w\": \"Proofpoint\"}\n",
            "{\"o\": 86, \"e\": 88, \"t\": \"LOC\", \"w\": \"UK\"}\n",
            "{\"o\": 156, \"e\": 162, \"t\": \"MISC\", \"w\": \"FluBot\"}\n",
            "{\"o\": 231, \"e\": 238, \"t\": \"MISC\", \"w\": \"Android\"}\n",
            "['German', '446833e3f8b04d4c3c2d2288e456328266524e396adbfeba3769d00727481e80', 'Proofpoint', 'UK', 'FluBot', 'Android']\n",
            "{\"o\": 27, \"e\": 33, \"t\": \"ORG\", \"w\": \"Line 7\"}\n",
            "{\"o\": 105, \"e\": 112, \"t\": \"ORG\", \"w\": \"SIGSEGV\"}\n",
            "{\"o\": 10, \"e\": 13, \"t\": \"CARDINAL\", \"w\": \"two\"}\n",
            "{\"o\": 91, \"e\": 93, \"t\": \"CARDINAL\", \"w\": \"18\"}\n",
            "{\"o\": 153, \"e\": 155, \"t\": \"CARDINAL\", \"w\": \"64\"}\n",
            "['Line 7', 'SIGSEGV', 'two', '18', '64']\n"
          ]
        }
      ]
    },
    {
      "cell_type": "markdown",
      "source": [
        "This is the area for Inputing the Cyber security entities into a pandas dataframe.\n"
      ],
      "metadata": {
        "id": "RzPgYaCLHag9"
      }
    },
    {
      "cell_type": "code",
      "source": [
        "!pip install pandas\n",
        "import pandas as pd\n",
        "from pandas import DataFrame\n",
        "\n",
        "# Putting them into a DataFrame after viewing them.\n",
        "df=pd.DataFrame({\"o\":[36,43,163,0,86,156,231,27,105,10,91,153],\"e\":[42,51,227,10,88,162,238,33,112,13,93,155],\"t\":[\"DISEASE\",\"DISEASE\",\"HEX\",\"ORG\",\"LOC\",\"MISC\",\"MISC\",\"ORG\",\"ORG\",\"CARDINAL\",\"CARDINAL\",\"CARDINAL\"],\"w\":[\"German\",\"language\",\"446833e3f8b04d4c3c2d2288e456328266524e396adbfeba3769d00727481e80\",\"Proofpoint\",\"UK\",\"FluBot\",\"Android\",\"Line 7\",\"SIGSEGV\",\"two\",\"18\",\"64\"]})\n",
        "df\n",
        "# Renaming the \"w\" column\n",
        "df['CyberSecurityEntities']=df['w']\n",
        "# Dropping every other column other than the Cyber_Security_Entities column\n",
        "df=df.drop(['o','e','t','w'], axis=1)\n",
        "df"
      ],
      "metadata": {
        "colab": {
          "base_uri": "https://localhost:8080/",
          "height": 532
        },
        "id": "OT6Hu78t8KmD",
        "outputId": "70641a78-0cbd-4000-de97-6a9056d30898"
      },
      "execution_count": null,
      "outputs": [
        {
          "output_type": "stream",
          "name": "stdout",
          "text": [
            "Requirement already satisfied: pandas in /usr/local/lib/python3.10/dist-packages (1.5.3)\n",
            "Requirement already satisfied: python-dateutil>=2.8.1 in /usr/local/lib/python3.10/dist-packages (from pandas) (2.8.2)\n",
            "Requirement already satisfied: pytz>=2020.1 in /usr/local/lib/python3.10/dist-packages (from pandas) (2023.3.post1)\n",
            "Requirement already satisfied: numpy>=1.21.0 in /usr/local/lib/python3.10/dist-packages (from pandas) (1.23.5)\n",
            "Requirement already satisfied: six>=1.5 in /usr/local/lib/python3.10/dist-packages (from python-dateutil>=2.8.1->pandas) (1.16.0)\n"
          ]
        },
        {
          "output_type": "execute_result",
          "data": {
            "text/plain": [
              "                                CyberSecurityEntities\n",
              "0                                              German\n",
              "1                                            language\n",
              "2   446833e3f8b04d4c3c2d2288e456328266524e396adbfe...\n",
              "3                                          Proofpoint\n",
              "4                                                  UK\n",
              "5                                              FluBot\n",
              "6                                             Android\n",
              "7                                              Line 7\n",
              "8                                             SIGSEGV\n",
              "9                                                 two\n",
              "10                                                 18\n",
              "11                                                 64"
            ],
            "text/html": [
              "\n",
              "  <div id=\"df-e65045c9-2487-4b14-b6ba-9f3e3a5b14ae\" class=\"colab-df-container\">\n",
              "    <div>\n",
              "<style scoped>\n",
              "    .dataframe tbody tr th:only-of-type {\n",
              "        vertical-align: middle;\n",
              "    }\n",
              "\n",
              "    .dataframe tbody tr th {\n",
              "        vertical-align: top;\n",
              "    }\n",
              "\n",
              "    .dataframe thead th {\n",
              "        text-align: right;\n",
              "    }\n",
              "</style>\n",
              "<table border=\"1\" class=\"dataframe\">\n",
              "  <thead>\n",
              "    <tr style=\"text-align: right;\">\n",
              "      <th></th>\n",
              "      <th>CyberSecurityEntities</th>\n",
              "    </tr>\n",
              "  </thead>\n",
              "  <tbody>\n",
              "    <tr>\n",
              "      <th>0</th>\n",
              "      <td>German</td>\n",
              "    </tr>\n",
              "    <tr>\n",
              "      <th>1</th>\n",
              "      <td>language</td>\n",
              "    </tr>\n",
              "    <tr>\n",
              "      <th>2</th>\n",
              "      <td>446833e3f8b04d4c3c2d2288e456328266524e396adbfe...</td>\n",
              "    </tr>\n",
              "    <tr>\n",
              "      <th>3</th>\n",
              "      <td>Proofpoint</td>\n",
              "    </tr>\n",
              "    <tr>\n",
              "      <th>4</th>\n",
              "      <td>UK</td>\n",
              "    </tr>\n",
              "    <tr>\n",
              "      <th>5</th>\n",
              "      <td>FluBot</td>\n",
              "    </tr>\n",
              "    <tr>\n",
              "      <th>6</th>\n",
              "      <td>Android</td>\n",
              "    </tr>\n",
              "    <tr>\n",
              "      <th>7</th>\n",
              "      <td>Line 7</td>\n",
              "    </tr>\n",
              "    <tr>\n",
              "      <th>8</th>\n",
              "      <td>SIGSEGV</td>\n",
              "    </tr>\n",
              "    <tr>\n",
              "      <th>9</th>\n",
              "      <td>two</td>\n",
              "    </tr>\n",
              "    <tr>\n",
              "      <th>10</th>\n",
              "      <td>18</td>\n",
              "    </tr>\n",
              "    <tr>\n",
              "      <th>11</th>\n",
              "      <td>64</td>\n",
              "    </tr>\n",
              "  </tbody>\n",
              "</table>\n",
              "</div>\n",
              "    <div class=\"colab-df-buttons\">\n",
              "\n",
              "  <div class=\"colab-df-container\">\n",
              "    <button class=\"colab-df-convert\" onclick=\"convertToInteractive('df-e65045c9-2487-4b14-b6ba-9f3e3a5b14ae')\"\n",
              "            title=\"Convert this dataframe to an interactive table.\"\n",
              "            style=\"display:none;\">\n",
              "\n",
              "  <svg xmlns=\"http://www.w3.org/2000/svg\" height=\"24px\" viewBox=\"0 -960 960 960\">\n",
              "    <path d=\"M120-120v-720h720v720H120Zm60-500h600v-160H180v160Zm220 220h160v-160H400v160Zm0 220h160v-160H400v160ZM180-400h160v-160H180v160Zm440 0h160v-160H620v160ZM180-180h160v-160H180v160Zm440 0h160v-160H620v160Z\"/>\n",
              "  </svg>\n",
              "    </button>\n",
              "\n",
              "  <style>\n",
              "    .colab-df-container {\n",
              "      display:flex;\n",
              "      gap: 12px;\n",
              "    }\n",
              "\n",
              "    .colab-df-convert {\n",
              "      background-color: #E8F0FE;\n",
              "      border: none;\n",
              "      border-radius: 50%;\n",
              "      cursor: pointer;\n",
              "      display: none;\n",
              "      fill: #1967D2;\n",
              "      height: 32px;\n",
              "      padding: 0 0 0 0;\n",
              "      width: 32px;\n",
              "    }\n",
              "\n",
              "    .colab-df-convert:hover {\n",
              "      background-color: #E2EBFA;\n",
              "      box-shadow: 0px 1px 2px rgba(60, 64, 67, 0.3), 0px 1px 3px 1px rgba(60, 64, 67, 0.15);\n",
              "      fill: #174EA6;\n",
              "    }\n",
              "\n",
              "    .colab-df-buttons div {\n",
              "      margin-bottom: 4px;\n",
              "    }\n",
              "\n",
              "    [theme=dark] .colab-df-convert {\n",
              "      background-color: #3B4455;\n",
              "      fill: #D2E3FC;\n",
              "    }\n",
              "\n",
              "    [theme=dark] .colab-df-convert:hover {\n",
              "      background-color: #434B5C;\n",
              "      box-shadow: 0px 1px 3px 1px rgba(0, 0, 0, 0.15);\n",
              "      filter: drop-shadow(0px 1px 2px rgba(0, 0, 0, 0.3));\n",
              "      fill: #FFFFFF;\n",
              "    }\n",
              "  </style>\n",
              "\n",
              "    <script>\n",
              "      const buttonEl =\n",
              "        document.querySelector('#df-e65045c9-2487-4b14-b6ba-9f3e3a5b14ae button.colab-df-convert');\n",
              "      buttonEl.style.display =\n",
              "        google.colab.kernel.accessAllowed ? 'block' : 'none';\n",
              "\n",
              "      async function convertToInteractive(key) {\n",
              "        const element = document.querySelector('#df-e65045c9-2487-4b14-b6ba-9f3e3a5b14ae');\n",
              "        const dataTable =\n",
              "          await google.colab.kernel.invokeFunction('convertToInteractive',\n",
              "                                                    [key], {});\n",
              "        if (!dataTable) return;\n",
              "\n",
              "        const docLinkHtml = 'Like what you see? Visit the ' +\n",
              "          '<a target=\"_blank\" href=https://colab.research.google.com/notebooks/data_table.ipynb>data table notebook</a>'\n",
              "          + ' to learn more about interactive tables.';\n",
              "        element.innerHTML = '';\n",
              "        dataTable['output_type'] = 'display_data';\n",
              "        await google.colab.output.renderOutput(dataTable, element);\n",
              "        const docLink = document.createElement('div');\n",
              "        docLink.innerHTML = docLinkHtml;\n",
              "        element.appendChild(docLink);\n",
              "      }\n",
              "    </script>\n",
              "  </div>\n",
              "\n",
              "\n",
              "<div id=\"df-14adf970-91d3-49d4-90cd-c9c5b4066d1b\">\n",
              "  <button class=\"colab-df-quickchart\" onclick=\"quickchart('df-14adf970-91d3-49d4-90cd-c9c5b4066d1b')\"\n",
              "            title=\"Suggest charts.\"\n",
              "            style=\"display:none;\">\n",
              "\n",
              "<svg xmlns=\"http://www.w3.org/2000/svg\" height=\"24px\"viewBox=\"0 0 24 24\"\n",
              "     width=\"24px\">\n",
              "    <g>\n",
              "        <path d=\"M19 3H5c-1.1 0-2 .9-2 2v14c0 1.1.9 2 2 2h14c1.1 0 2-.9 2-2V5c0-1.1-.9-2-2-2zM9 17H7v-7h2v7zm4 0h-2V7h2v10zm4 0h-2v-4h2v4z\"/>\n",
              "    </g>\n",
              "</svg>\n",
              "  </button>\n",
              "\n",
              "<style>\n",
              "  .colab-df-quickchart {\n",
              "      --bg-color: #E8F0FE;\n",
              "      --fill-color: #1967D2;\n",
              "      --hover-bg-color: #E2EBFA;\n",
              "      --hover-fill-color: #174EA6;\n",
              "      --disabled-fill-color: #AAA;\n",
              "      --disabled-bg-color: #DDD;\n",
              "  }\n",
              "\n",
              "  [theme=dark] .colab-df-quickchart {\n",
              "      --bg-color: #3B4455;\n",
              "      --fill-color: #D2E3FC;\n",
              "      --hover-bg-color: #434B5C;\n",
              "      --hover-fill-color: #FFFFFF;\n",
              "      --disabled-bg-color: #3B4455;\n",
              "      --disabled-fill-color: #666;\n",
              "  }\n",
              "\n",
              "  .colab-df-quickchart {\n",
              "    background-color: var(--bg-color);\n",
              "    border: none;\n",
              "    border-radius: 50%;\n",
              "    cursor: pointer;\n",
              "    display: none;\n",
              "    fill: var(--fill-color);\n",
              "    height: 32px;\n",
              "    padding: 0;\n",
              "    width: 32px;\n",
              "  }\n",
              "\n",
              "  .colab-df-quickchart:hover {\n",
              "    background-color: var(--hover-bg-color);\n",
              "    box-shadow: 0 1px 2px rgba(60, 64, 67, 0.3), 0 1px 3px 1px rgba(60, 64, 67, 0.15);\n",
              "    fill: var(--button-hover-fill-color);\n",
              "  }\n",
              "\n",
              "  .colab-df-quickchart-complete:disabled,\n",
              "  .colab-df-quickchart-complete:disabled:hover {\n",
              "    background-color: var(--disabled-bg-color);\n",
              "    fill: var(--disabled-fill-color);\n",
              "    box-shadow: none;\n",
              "  }\n",
              "\n",
              "  .colab-df-spinner {\n",
              "    border: 2px solid var(--fill-color);\n",
              "    border-color: transparent;\n",
              "    border-bottom-color: var(--fill-color);\n",
              "    animation:\n",
              "      spin 1s steps(1) infinite;\n",
              "  }\n",
              "\n",
              "  @keyframes spin {\n",
              "    0% {\n",
              "      border-color: transparent;\n",
              "      border-bottom-color: var(--fill-color);\n",
              "      border-left-color: var(--fill-color);\n",
              "    }\n",
              "    20% {\n",
              "      border-color: transparent;\n",
              "      border-left-color: var(--fill-color);\n",
              "      border-top-color: var(--fill-color);\n",
              "    }\n",
              "    30% {\n",
              "      border-color: transparent;\n",
              "      border-left-color: var(--fill-color);\n",
              "      border-top-color: var(--fill-color);\n",
              "      border-right-color: var(--fill-color);\n",
              "    }\n",
              "    40% {\n",
              "      border-color: transparent;\n",
              "      border-right-color: var(--fill-color);\n",
              "      border-top-color: var(--fill-color);\n",
              "    }\n",
              "    60% {\n",
              "      border-color: transparent;\n",
              "      border-right-color: var(--fill-color);\n",
              "    }\n",
              "    80% {\n",
              "      border-color: transparent;\n",
              "      border-right-color: var(--fill-color);\n",
              "      border-bottom-color: var(--fill-color);\n",
              "    }\n",
              "    90% {\n",
              "      border-color: transparent;\n",
              "      border-bottom-color: var(--fill-color);\n",
              "    }\n",
              "  }\n",
              "</style>\n",
              "\n",
              "  <script>\n",
              "    async function quickchart(key) {\n",
              "      const quickchartButtonEl =\n",
              "        document.querySelector('#' + key + ' button');\n",
              "      quickchartButtonEl.disabled = true;  // To prevent multiple clicks.\n",
              "      quickchartButtonEl.classList.add('colab-df-spinner');\n",
              "      try {\n",
              "        const charts = await google.colab.kernel.invokeFunction(\n",
              "            'suggestCharts', [key], {});\n",
              "      } catch (error) {\n",
              "        console.error('Error during call to suggestCharts:', error);\n",
              "      }\n",
              "      quickchartButtonEl.classList.remove('colab-df-spinner');\n",
              "      quickchartButtonEl.classList.add('colab-df-quickchart-complete');\n",
              "    }\n",
              "    (() => {\n",
              "      let quickchartButtonEl =\n",
              "        document.querySelector('#df-14adf970-91d3-49d4-90cd-c9c5b4066d1b button');\n",
              "      quickchartButtonEl.style.display =\n",
              "        google.colab.kernel.accessAllowed ? 'block' : 'none';\n",
              "    })();\n",
              "  </script>\n",
              "</div>\n",
              "    </div>\n",
              "  </div>\n"
            ]
          },
          "metadata": {},
          "execution_count": 3
        }
      ]
    },
    {
      "cell_type": "markdown",
      "source": [
        "This is the part where loading the dataframe into neo4j/ aura db begins.\n"
      ],
      "metadata": {
        "id": "7Ya66ERHTNrC"
      }
    },
    {
      "cell_type": "code",
      "source": [
        "# Connecting to the Neo4j/ Aura db Database using neo4j python driver.\n",
        "!pip install neo4j\n",
        "from neo4j import GraphDatabase\n",
        "\n",
        "class Neo4jConnection:\n",
        "\n",
        "    def __init__(self, uri, user, pwd):\n",
        "        self.__uri = uri\n",
        "        self.__user = user\n",
        "        self.__pwd = pwd\n",
        "        self.__driver = None\n",
        "        try:\n",
        "            self.__driver = GraphDatabase.driver(self.__uri, auth=(self.__user, self.__pwd))\n",
        "        except Exception as e:\n",
        "            print(\"Failed to create the driver:\", e)\n",
        "\n",
        "    def close(self):\n",
        "        if self.__driver is not None:\n",
        "            self.__driver.close()\n",
        "\n",
        "    def query(self, query, parameters=None, db=None):\n",
        "        assert self.__driver is not None, \"Driver not initialized!\"\n",
        "        session = None\n",
        "        response = None\n",
        "        try:\n",
        "            session = self.__driver.session(database=db) if db is not None else self.__driver.session()\n",
        "            response = list(session.run(query, parameters))\n",
        "        except Exception as e:\n",
        "            print(\"Query failed:\", e)\n",
        "        finally:\n",
        "            if session is not None:\n",
        "                session.close()\n",
        "        return response\n",
        "\n",
        "\n",
        "conn = Neo4jConnection(uri=\"neo4j+s://3001e9fa.databases.neo4j.io\",\n",
        "                       user=\"neo4j\",\n",
        "                       pwd=\"q5BL5sYyE2o3PF6-8feWIujl8yJlxgdloiEtHcZgMWo\")"
      ],
      "metadata": {
        "id": "MqJWrcdyRbXD",
        "colab": {
          "base_uri": "https://localhost:8080/"
        },
        "outputId": "e56c70a3-f959-4a4a-b0ac-cf5fbb7c0df8"
      },
      "execution_count": null,
      "outputs": [
        {
          "output_type": "stream",
          "name": "stdout",
          "text": [
            "Collecting neo4j\n",
            "  Downloading neo4j-5.13.0.tar.gz (192 kB)\n",
            "\u001b[?25l     \u001b[90m━━━━━━━━━━━━━━━━━━━━━━━━━━━━━━━━━━━━━━━━\u001b[0m \u001b[32m0.0/192.3 kB\u001b[0m \u001b[31m?\u001b[0m eta \u001b[36m-:--:--\u001b[0m\r\u001b[2K     \u001b[91m━━━━━━━━━━━━━━━━━━━━━━━━\u001b[0m\u001b[91m╸\u001b[0m\u001b[90m━━━━━━━━━━━━━━\u001b[0m \u001b[32m122.9/192.3 kB\u001b[0m \u001b[31m3.6 MB/s\u001b[0m eta \u001b[36m0:00:01\u001b[0m\r\u001b[2K     \u001b[90m━━━━━━━━━━━━━━━━━━━━━━━━━━━━━━━━━━━━━━━\u001b[0m \u001b[32m192.3/192.3 kB\u001b[0m \u001b[31m4.0 MB/s\u001b[0m eta \u001b[36m0:00:00\u001b[0m\n",
            "\u001b[?25h  Installing build dependencies ... \u001b[?25l\u001b[?25hdone\n",
            "  Getting requirements to build wheel ... \u001b[?25l\u001b[?25hdone\n",
            "  Installing backend dependencies ... \u001b[?25l\u001b[?25hdone\n",
            "  Preparing metadata (pyproject.toml) ... \u001b[?25l\u001b[?25hdone\n",
            "Requirement already satisfied: pytz in /usr/local/lib/python3.10/dist-packages (from neo4j) (2023.3.post1)\n",
            "Building wheels for collected packages: neo4j\n",
            "  Building wheel for neo4j (pyproject.toml) ... \u001b[?25l\u001b[?25hdone\n",
            "  Created wheel for neo4j: filename=neo4j-5.13.0-py3-none-any.whl size=265313 sha256=00b626d222aa9df362b7bc9a8bbd039d7628425bdb2f2ec61defd2ada056630f\n",
            "  Stored in directory: /root/.cache/pip/wheels/7b/1d/b6/1be3a1e9de57bc832b7fcebbbf884186d8155bb6f1cc45be99\n",
            "Successfully built neo4j\n",
            "Installing collected packages: neo4j\n",
            "Successfully installed neo4j-5.13.0\n"
          ]
        }
      ]
    },
    {
      "cell_type": "code",
      "source": [
        "# Creating a CONSTRAINT for the CyberSecurityEntities Graph:\n",
        "conn.query('CREATE CONSTRAINT cyber_security_entities IF NOT EXISTS FOR (b:CyberSecurityEntities) REQUIRE b.name IS UNIQUE')"
      ],
      "metadata": {
        "colab": {
          "base_uri": "https://localhost:8080/"
        },
        "id": "9jKae09YTKfC",
        "outputId": "b30dbcc8-e460-4f3c-dca2-8959489b4fb8"
      },
      "execution_count": null,
      "outputs": [
        {
          "output_type": "execute_result",
          "data": {
            "text/plain": [
              "[]"
            ]
          },
          "metadata": {},
          "execution_count": 5
        }
      ]
    },
    {
      "cell_type": "code",
      "source": [
        "# Creating functions for the DataFrame which will be later used to populate the Database:\n",
        "def add_cybersecurityentities(entities):\n",
        "    # Adds CyberSecurityEntities nodes to the Neo4j/ Aura db graph.\n",
        "    query = '''\n",
        "            UNWIND $rows AS row\n",
        "            MERGE (c:CyberSecurityEntities {name: row.name})\n",
        "            RETURN count(*) as total\n",
        "            '''\n",
        "    return conn.query(query, parameters = {'rows':entities.to_dict('records')})\n",
        "\n",
        "# Populating the Database with the data from the DataFrame:\n",
        "entities = pd.DataFrame(df[['CyberSecurityEntities']])\n",
        "entities.rename(columns={'CyberSecurityEntities':'name'},\n",
        "                  inplace=True)\n",
        "entities = entities.explode('name') \\\n",
        "                       .drop_duplicates(subset=['name'])\n",
        "\n",
        "# Calling the function to populate the graph with CyberSecurityEntities nodes\n",
        "add_cybersecurityentities(entities)"
      ],
      "metadata": {
        "colab": {
          "base_uri": "https://localhost:8080/"
        },
        "id": "e7RyQ_W2W4I_",
        "outputId": "c2c0a0ac-64fb-4a6d-ea7b-8760ccd24aa7"
      },
      "execution_count": null,
      "outputs": [
        {
          "output_type": "execute_result",
          "data": {
            "text/plain": [
              "[<Record total=12>]"
            ]
          },
          "metadata": {},
          "execution_count": 6
        }
      ]
    },
    {
      "cell_type": "code",
      "source": [
        "!pip install neo4j\n",
        "from neo4j import GraphDatabase\n",
        "# Defining the driver to run the session:\n",
        "driver = GraphDatabase.driver(\"neo4j+s://3001e9fa.databases.neo4j.io\", auth=(\"neo4j\", \"q5BL5sYyE2o3PF6-8feWIujl8yJlxgdloiEtHcZgMWo\"))\n",
        "# Running the session to add the querries into the neo4j/ aura db database, creating relationships between nodes:\n",
        "with driver.session() as session:\n",
        "    result = session.run('''\n",
        "    MATCH (t:TEvent)\n",
        "    MATCH (e:Entity)\n",
        "    MATCH (c:CyberSecurityEntities)\n",
        "    MERGE (c)-[r:WAS_INVOLVED_IN]->(t)\n",
        "    MERGE (e)-[v:WAS_HACKED_USING]->(c)\n",
        "    ''')\n",
        "    description = result.data()\n",
        "description"
      ],
      "metadata": {
        "colab": {
          "base_uri": "https://localhost:8080/"
        },
        "id": "tEcLdl9wcQTO",
        "outputId": "1b8ada0e-2f4a-4fa4-8268-132e0e9f898e"
      },
      "execution_count": null,
      "outputs": [
        {
          "output_type": "stream",
          "name": "stdout",
          "text": [
            "Requirement already satisfied: neo4j in /usr/local/lib/python3.10/dist-packages (5.13.0)\n",
            "Requirement already satisfied: pytz in /usr/local/lib/python3.10/dist-packages (from neo4j) (2023.3.post1)\n"
          ]
        },
        {
          "output_type": "execute_result",
          "data": {
            "text/plain": [
              "[]"
            ]
          },
          "metadata": {},
          "execution_count": 7
        }
      ]
    }
  ]
}